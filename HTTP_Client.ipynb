{
 "cells": [
  {
   "cell_type": "code",
   "execution_count": 1,
   "metadata": {},
   "outputs": [],
   "source": [
    "import socket\n",
    "import threading"
   ]
  },
  {
   "cell_type": "code",
   "execution_count": 2,
   "metadata": {},
   "outputs": [],
   "source": [
    "s = socket.socket(socket.AF_INET, socket.SOCK_STREAM)"
   ]
  },
  {
   "cell_type": "code",
   "execution_count": 3,
   "metadata": {},
   "outputs": [],
   "source": [
    "pars = ('127.0.0.1', 80) # server IP and server port\n",
    "s.connect(pars)"
   ]
  },
  {
   "cell_type": "code",
   "execution_count": 4,
   "metadata": {},
   "outputs": [
    {
     "name": "stdout",
     "output_type": "stream",
     "text": [
      "data from server: b'HTTP/1.0 200 OK\\r\\nDate : Mon, 07 Dec 2020 12:12:12 GMT\\r\\nServer : localhost\\r\\nconnection : close\\r\\nContent-Type : text/html; charset=UTF-8\\r\\nContent-Length:34\\r\\n\\r\\n<html><body>10630401</body></html>'\n"
     ]
    }
   ],
   "source": [
    "# while True:\n",
    "    \n",
    "    # let the client talk firt\n",
    "responseHeader = '%s%s%s%s%s' % ('POST/post.html HTTP/1.0\\r\\n',\n",
    "                                'Host : 127.0.0.1\\r\\n',\n",
    "                                'Content-Type : text/html; charset=UTF-8\\r\\n',\n",
    "                                '\\r\\n',\n",
    "                                'Id : 106304011\\r\\n')\n",
    "\n",
    "responseHeader_encode = responseHeader.encode(encoding = 'utf-8')\n",
    "s.send(responseHeader_encode)\n",
    "\n",
    "# then wait for server response\n",
    "data = s.recv(1024)                                                                                                             \n",
    "if data:\n",
    "    print(\"data from server:\", data)\n",
    "    \n",
    "# # close directly\n",
    "# s.close()"
   ]
  },
  {
   "cell_type": "code",
   "execution_count": 5,
   "metadata": {},
   "outputs": [],
   "source": [
    "# data_decode = 'dadsjfhahfdiahuaiId : 106304011 \\rlkdfjalkfja'\n",
    "\n",
    "# start = data_decode.find('Id : ', 0)\n",
    "# end = data_decode.find('\\r')\n",
    "# id_number = data_decode[start+5 : end-1]\n",
    "# responseData ='<html><body>' + id_number + '</body></html>'\n",
    "# print(start)\n",
    "# print(end)\n",
    "# print(responseData)"
   ]
  },
  {
   "cell_type": "code",
   "execution_count": null,
   "metadata": {},
   "outputs": [],
   "source": []
  }
 ],
 "metadata": {
  "kernelspec": {
   "display_name": "Python 3",
   "language": "python",
   "name": "python3"
  },
  "language_info": {
   "codemirror_mode": {
    "name": "ipython",
    "version": 3
   },
   "file_extension": ".py",
   "mimetype": "text/x-python",
   "name": "python",
   "nbconvert_exporter": "python",
   "pygments_lexer": "ipython3",
   "version": "3.7.4"
  }
 },
 "nbformat": 4,
 "nbformat_minor": 2
}
